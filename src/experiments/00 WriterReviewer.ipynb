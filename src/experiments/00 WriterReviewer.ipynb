{
 "cells": [
  {
   "cell_type": "markdown",
   "metadata": {},
   "source": [
    "# Configuration\n",
    "\n",
    "Define settings for remote services, create `appsettings.Development.json` using `appsettings.json` as template.\n",
    "\n",
    "You need to manually give yourself `Cognitive Services Contributor` rights on the `Azure OpenAI` resource if you not already have it.\n",
    "\n",
    "Also ensure to execute `azd auth login` to have access to the Azure resources.\n",
    "\n",
    "> This example is based on [How-To: Coordinate Agent Collaboration using Agent Group Chat](https://learn.microsoft.com/en-us/semantic-kernel/frameworks/agent/examples/example-agent-collaboration?pivots=programming-language-csharp).\n"
   ]
  },
  {
   "cell_type": "markdown",
   "metadata": {},
   "source": [
    "# Install and Import Required Packages\n",
    "Install and import the necessary packages using NuGet."
   ]
  },
  {
   "cell_type": "code",
   "execution_count": 7,
   "metadata": {
    "dotnet_interactive": {
     "language": "csharp"
    },
    "polyglot_notebook": {
     "kernelName": "csharp"
    },
    "vscode": {
     "languageId": "polyglot-notebook"
    }
   },
   "outputs": [
    {
     "data": {
      "text/html": [
       "<div><div></div><div></div><div><strong>Installed Packages</strong><ul><li><span>Azure.Identity, 1.13.1</span></li><li><span>Microsoft.Extensions.Configuration, 9.0.0</span></li><li><span>Microsoft.Extensions.Configuration.Binder, 9.0.0</span></li><li><span>Microsoft.Extensions.Configuration.EnvironmentVariables, 9.0.0</span></li><li><span>Microsoft.Extensions.Configuration.UserSecrets, 9.0.0</span></li><li><span>Microsoft.SemanticKernel, 1.33.0</span></li><li><span>Microsoft.SemanticKernel.Agents.Core, 1.33.0-alpha</span></li><li><span>Microsoft.SemanticKernel.Connectors.AzureOpenAI, 1.33.0</span></li></ul></div></div>"
      ]
     },
     "metadata": {},
     "output_type": "display_data"
    }
   ],
   "source": [
    "// Install the necessary packages using NuGet\n",
    "#r \"nuget: Azure.Identity, 1.13.1\"\n",
    "#r \"nuget: Microsoft.Extensions.Configuration, 9.0.0\"\n",
    "#r \"nuget: Microsoft.Extensions.Configuration.Binder, 9.0.0\"\n",
    "#r \"nuget: Microsoft.Extensions.Configuration.UserSecrets, 9.0.0\"\n",
    "#r \"nuget: Microsoft.Extensions.Configuration.EnvironmentVariables, 9.0.0\"\n",
    "#r \"nuget: Microsoft.SemanticKernel, 1.33.0\"\n",
    "#r \"nuget: Microsoft.SemanticKernel.Agents.Core, 1.33.0-alpha\"\n",
    "#r \"nuget: Microsoft.SemanticKernel.Connectors.AzureOpenAI, 1.33.0\"\n",
    "\n",
    "// Import the necessary libraries\n",
    "using System;\n",
    "using System.Net;\n",
    "using System.ComponentModel;\n",
    "using System.Diagnostics;\n",
    "using System.IO;\n",
    "using System.Text.Json;\n",
    "using System.Threading.Tasks;\n",
    "using Azure.Identity;\n",
    "using Microsoft.DotNet.Interactive;\n",
    "using Microsoft.Extensions.Configuration;\n",
    "using Microsoft.SemanticKernel;\n",
    "using Microsoft.SemanticKernel.Agents;\n",
    "using Microsoft.SemanticKernel.Agents.Chat;\n",
    "using Microsoft.SemanticKernel.Agents.History;\n",
    "using Microsoft.SemanticKernel.ChatCompletion;\n",
    "using Microsoft.SemanticKernel.Connectors.AzureOpenAI;"
   ]
  },
  {
   "cell_type": "markdown",
   "metadata": {},
   "source": [
    "# Create Kernel Builder\n",
    "Create a Kernel builder instance."
   ]
  },
  {
   "cell_type": "code",
   "execution_count": 8,
   "metadata": {
    "dotnet_interactive": {
     "language": "csharp"
    },
    "polyglot_notebook": {
     "kernelName": "csharp"
    },
    "vscode": {
     "languageId": "polyglot-notebook"
    }
   },
   "outputs": [
    {
     "name": "stdout",
     "output_type": "stream",
     "text": [
      "8.0.11"
     ]
    },
    {
     "data": {
      "text/html": [
       "<details open=\"open\" class=\"dni-treeview\"><summary><span class=\"dni-code-hint\"><code>[ Tools.WriteConsoleOutput ]</code></span></summary><div><table><thead><tr></tr></thead><tbody><tr><td>FunctionCount</td><td><div class=\"dni-plaintext\"><pre>1</pre></div></td></tr><tr><td>Name</td><td><div class=\"dni-plaintext\"><pre>Tools</pre></div></td></tr><tr><td>Description</td><td><div class=\"dni-plaintext\"><pre></pre></div></td></tr><tr><td><i>(values)</i></td><td><table><thead><tr><th><i>index</i></th><th>value</th></tr></thead><tbody><tr><td>0</td><td><details class=\"dni-treeview\"><summary><span class=\"dni-code-hint\"><code>Tools.WriteConsoleOutput</code></span></summary><div><table><thead><tr></tr></thead><tbody><tr><td>Name</td><td><div class=\"dni-plaintext\"><pre>WriteConsoleOutput</pre></div></td></tr><tr><td>PluginName</td><td><div class=\"dni-plaintext\"><pre>Tools</pre></div></td></tr><tr><td>Description</td><td><div class=\"dni-plaintext\"><pre>Copies the provided content to the console output.</pre></div></td></tr><tr><td>Metadata</td><td><details class=\"dni-treeview\"><summary><span class=\"dni-code-hint\"><code>Microsoft.SemanticKernel.KernelFunctionMetadata</code></span></summary><div><table><thead><tr></tr></thead><tbody><tr><td>Name</td><td><div class=\"dni-plaintext\"><pre>WriteConsoleOutput</pre></div></td></tr><tr><td>PluginName</td><td><div class=\"dni-plaintext\"><pre>Tools</pre></div></td></tr><tr><td>Description</td><td><div class=\"dni-plaintext\"><pre>Copies the provided content to the console output.</pre></div></td></tr><tr><td>Parameters</td><td><table><thead><tr><th><i>index</i></th><th>value</th></tr></thead><tbody><tr><td>0</td><td><details class=\"dni-treeview\"><summary><span class=\"dni-code-hint\"><code>Microsoft.SemanticKernel.KernelParameterMetadata</code></span></summary><div><table><thead><tr></tr></thead><tbody><tr><td>Name</td><td><div class=\"dni-plaintext\"><pre>content</pre></div></td></tr><tr><td>Description</td><td><div class=\"dni-plaintext\"><pre></pre></div></td></tr><tr><td>DefaultValue</td><td><div class=\"dni-plaintext\"><pre>&lt;null&gt;</pre></div></td></tr><tr><td>IsRequired</td><td><div class=\"dni-plaintext\"><pre>True</pre></div></td></tr><tr><td>ParameterType</td><td><span><a href=\"https://docs.microsoft.com/dotnet/api/system.string?view=net-7.0\">System.String</a></span></td></tr><tr><td>Schema</td><td><details class=\"dni-treeview\"><summary><span class=\"dni-code-hint\"><code>{&quot;type&quot;:&quot;string&quot;}</code></span></summary><div><table><thead><tr></tr></thead><tbody><tr><td>RootElement</td><td>{\r\n",
       "  \"type\": \"string\"\r\n",
       "}</td></tr></tbody></table></div></details></td></tr></tbody></table></div></details></td></tr></tbody></table></td></tr><tr><td>ReturnParameter</td><td><details class=\"dni-treeview\"><summary><span class=\"dni-code-hint\"><code>Microsoft.SemanticKernel.KernelReturnParameterMetadata</code></span></summary><div><table><thead><tr></tr></thead><tbody><tr><td>Description</td><td><div class=\"dni-plaintext\"><pre></pre></div></td></tr><tr><td>ParameterType</td><td><span><a href=\"https://docs.microsoft.com/dotnet/api/system.void?view=net-7.0\">System.Void</a></span></td></tr><tr><td>Schema</td><td><div class=\"dni-plaintext\"><pre>&lt;null&gt;</pre></div></td></tr></tbody></table></div></details></td></tr><tr><td>AdditionalProperties</td><td><i>(empty)</i></td></tr></tbody></table></div></details></td></tr><tr><td>ExecutionSettings</td><td><div class=\"dni-plaintext\"><pre>&lt;null&gt;</pre></div></td></tr></tbody></table></div></details></td></tr></tbody></table></td></tr></tbody></table></div></details><style>\r\n",
       ".dni-code-hint {\r\n",
       "    font-style: italic;\r\n",
       "    overflow: hidden;\r\n",
       "    white-space: nowrap;\r\n",
       "}\r\n",
       ".dni-treeview {\r\n",
       "    white-space: nowrap;\r\n",
       "}\r\n",
       ".dni-treeview td {\r\n",
       "    vertical-align: top;\r\n",
       "    text-align: start;\r\n",
       "}\r\n",
       "details.dni-treeview {\r\n",
       "    padding-left: 1em;\r\n",
       "}\r\n",
       "table td {\r\n",
       "    text-align: start;\r\n",
       "}\r\n",
       "table tr { \r\n",
       "    vertical-align: top; \r\n",
       "    margin: 0em 0px;\r\n",
       "}\r\n",
       "table tr td pre \r\n",
       "{ \r\n",
       "    vertical-align: top !important; \r\n",
       "    margin: 0em 0px !important;\r\n",
       "} \r\n",
       "table th {\r\n",
       "    text-align: start;\r\n",
       "}\r\n",
       "</style>"
      ]
     },
     "metadata": {},
     "output_type": "display_data"
    }
   ],
   "source": [
    "var configBuilder = new ConfigurationBuilder()\n",
    "    .SetBasePath(Directory.GetCurrentDirectory())\n",
    "    .AddJsonFile(\"./appsettings.json\", optional: false)\n",
    "    .AddJsonFile(\"./appsettings.Development.json\", optional: false);\n",
    "    \n",
    "var configuration = configBuilder.Build();\n",
    "\n",
    "IKernelBuilder builder = Microsoft.SemanticKernel.Kernel.CreateBuilder();\n",
    "\n",
    "builder.AddAzureOpenAIChatCompletion(\n",
    "\tconfiguration[\"ChatModelDeployment\"],\n",
    "    configuration[\"Endpoint\"],\n",
    "\tnew AzureDeveloperCliCredential());\n",
    "\n",
    "Microsoft.SemanticKernel.Kernel kernel = builder.Build();\n",
    "\n",
    "public class Tools\n",
    "{\n",
    "    [KernelFunction]\n",
    "    [Description(\"Copies the provided content to the console output.\")]\n",
    "    public static void WriteConsoleOutput(string content)\n",
    "    {\n",
    "        if (string.IsNullOrWhiteSpace(content))\n",
    "        {\n",
    "            return;\n",
    "        }\n",
    "\n",
    "        Console.Write(content);\n",
    "    }\n",
    "}\n",
    "\n",
    "Microsoft.SemanticKernel.Kernel toolKernel = kernel.Clone();\n",
    "toolKernel.Plugins.AddFromType<Tools>()"
   ]
  },
  {
   "cell_type": "markdown",
   "metadata": {},
   "source": [
    "\n",
    "# Agent Definitions"
   ]
  },
  {
   "cell_type": "code",
   "execution_count": 9,
   "metadata": {
    "dotnet_interactive": {
     "language": "csharp"
    },
    "polyglot_notebook": {
     "kernelName": "csharp"
    },
    "vscode": {
     "languageId": "polyglot-notebook"
    }
   },
   "outputs": [],
   "source": [
    "// The Agent Framework is experimental and requires warning suppression\n",
    "#pragma warning disable CA2007, IDE1006, SKEXP0001, SKEXP0110, OPENAI001\n",
    "\n",
    "const string ReviewerName = \"Reviewer\";\n",
    "const string WriterName = \"Writer\";\n",
    "\n",
    "ChatCompletionAgent agentReviewer =\n",
    "    new()\n",
    "    {\n",
    "        Name = ReviewerName,\n",
    "        Instructions =\n",
    "            \"\"\"\n",
    "            Your responsiblity is to review and identify how to improve user provided content.\n",
    "            If the user has providing input or direction for content already provided, specify how to address this input.\n",
    "            Never directly perform the correction or provide example.\n",
    "            Once the content has been updated in a subsequent response, you will review the content again until satisfactory.\n",
    "            Always copy satisfactory content to the console output using available tools and inform user.\n",
    "\n",
    "            RULES:\n",
    "            - Only identify suggestions that are specific and actionable.\n",
    "            - Verify previous suggestions have been addressed.\n",
    "            - Never repeat previous suggestions.\n",
    "            \"\"\",\n",
    "        Kernel = toolKernel,\n",
    "        Arguments =\n",
    "            new KernelArguments(\n",
    "                new AzureOpenAIPromptExecutionSettings() \n",
    "                { \n",
    "                    FunctionChoiceBehavior = FunctionChoiceBehavior.Auto() \n",
    "                })\n",
    "    };\n",
    "\n",
    "ChatCompletionAgent agentWriter =\n",
    "    new()\n",
    "    {\n",
    "        Name = WriterName,\n",
    "        Instructions =\n",
    "            \"\"\"\n",
    "            Your sole responsiblity is to rewrite content according to review suggestions.\n",
    "\n",
    "            - Always apply all review direction.\n",
    "            - Always revise the content in its entirety without explanation.\n",
    "            - Never address the user.\n",
    "            \"\"\",\n",
    "        Kernel = kernel,\n",
    "    };"
   ]
  },
  {
   "cell_type": "markdown",
   "metadata": {},
   "source": [
    "# Chat Definitions"
   ]
  },
  {
   "cell_type": "code",
   "execution_count": 10,
   "metadata": {
    "dotnet_interactive": {
     "language": "csharp"
    },
    "polyglot_notebook": {
     "kernelName": "csharp"
    },
    "vscode": {
     "languageId": "polyglot-notebook"
    }
   },
   "outputs": [],
   "source": [
    "// The Agent Framework is experimental and requires warning suppression\n",
    "#pragma warning disable CA2007, IDE1006, SKEXP0001, SKEXP0110, OPENAI001\n",
    "\n",
    "KernelFunction selectionFunction =\n",
    "    AgentGroupChat.CreatePromptFunctionForStrategy(\n",
    "        $$$\"\"\"\n",
    "        Examine the provided RESPONSE and choose the next participant.\n",
    "        State only the name of the chosen participant without explanation.\n",
    "        Never choose the participant named in the RESPONSE.\n",
    "\n",
    "        Choose only from these participants:\n",
    "        - {{{ReviewerName}}}\n",
    "        - {{{WriterName}}}\n",
    "\n",
    "        Always follow these rules when choosing the next participant:\n",
    "        - If RESPONSE is user input, it is {{{ReviewerName}}}'s turn.\n",
    "        - If RESPONSE is by {{{ReviewerName}}}, it is {{{WriterName}}}'s turn.\n",
    "        - If RESPONSE is by {{{WriterName}}}, it is {{{ReviewerName}}}'s turn.\n",
    "\n",
    "        RESPONSE:\n",
    "        {{$lastmessage}}\n",
    "        \"\"\",\n",
    "        safeParameterNames: \"lastmessage\");\n",
    "\n",
    "\n",
    "const string TerminationToken = \"yes\";\n",
    "\n",
    "KernelFunction terminationFunction =\n",
    "    AgentGroupChat.CreatePromptFunctionForStrategy(\n",
    "        $$$\"\"\"\n",
    "        Examine the RESPONSE and determine whether the content has been deemed satisfactory.\n",
    "        If content is satisfactory, respond with a single word without explanation: {{{TerminationToken}}}.\n",
    "        If specific suggestions are being provided, it is not satisfactory.\n",
    "        If no correction is suggested, it is satisfactory.\n",
    "\n",
    "        RESPONSE:\n",
    "        {{$lastmessage}}\n",
    "        \"\"\",\n",
    "        safeParameterNames: \"lastmessage\");        "
   ]
  },
  {
   "cell_type": "markdown",
   "metadata": {},
   "source": [
    "# Creating Group Chat"
   ]
  },
  {
   "cell_type": "code",
   "execution_count": 11,
   "metadata": {
    "dotnet_interactive": {
     "language": "csharp"
    },
    "polyglot_notebook": {
     "kernelName": "csharp"
    },
    "vscode": {
     "languageId": "polyglot-notebook"
    }
   },
   "outputs": [
    {
     "name": "stdout",
     "output_type": "stream",
     "text": [
      "Ready!\r\n"
     ]
    }
   ],
   "source": [
    "// The Agent Framework is experimental and requires warning suppression\n",
    "#pragma warning disable CA2007, IDE1006, SKEXP0001, SKEXP0110, OPENAI001\n",
    "\n",
    "ChatHistoryTruncationReducer historyReducer = new(1);\n",
    "\n",
    "AgentGroupChat chat =\n",
    "    new(agentReviewer, agentWriter)\n",
    "    {\n",
    "        ExecutionSettings = new AgentGroupChatSettings\n",
    "        {\n",
    "            SelectionStrategy =\n",
    "                new KernelFunctionSelectionStrategy(selectionFunction, kernel)\n",
    "                {\n",
    "                    // Always start with the editor agent.\n",
    "                    InitialAgent = agentReviewer,\n",
    "                    // Save tokens by only including the final response\n",
    "                    HistoryReducer = historyReducer,\n",
    "                    // The prompt variable name for the history argument.\n",
    "                    HistoryVariableName = \"lastmessage\",\n",
    "                    // Returns the entire result value as a string.\n",
    "                    ResultParser = (result) => result.GetValue<string>() ?? agentReviewer.Name\n",
    "                },\n",
    "            TerminationStrategy =\n",
    "                new KernelFunctionTerminationStrategy(terminationFunction, kernel)\n",
    "                {\n",
    "                    // Only evaluate for editor's response\n",
    "                    Agents = [agentReviewer],\n",
    "                    // Save tokens by only including the final response\n",
    "                    HistoryReducer = historyReducer,\n",
    "                    // The prompt variable name for the history argument.\n",
    "                    HistoryVariableName = \"lastmessage\",\n",
    "                    // Limit total number of turns\n",
    "                    MaximumIterations = 12,\n",
    "                    // Customer result parser to determine if the response is \"yes\"\n",
    "                    ResultParser = (result) => result.GetValue<string>()?.Contains(TerminationToken, StringComparison.OrdinalIgnoreCase) ?? false\n",
    "                }\n",
    "        }\n",
    "    };\n",
    "\n",
    "Console.WriteLine(\"Ready!\");"
   ]
  },
  {
   "cell_type": "markdown",
   "metadata": {},
   "source": [
    "# Chat Loop\n",
    "\n",
    "You can test it with the following\n",
    "\n",
    "> Elephants are the largest land mamma4ls on earth and have distinctly massive bodies, large ears, and long trunks. They use their trunks to pick up objects, trumpet warnings, greet other elephants, or suck up water for drinking or bathing, among other uses. Both male and female African elephants grow tusks and each individual can either be left- or right-tusked, an5d the one they use more is usually smaller because of wear and tear. Elephant tusks serve many purposes. These extended teeth can be used to protect the elephant's ztrunk, lift and move objects, gather food, and strip bark from trees. They can also be used for defense. During times of droughdd, elephants even use their tusks to dig holes to find water underground."
   ]
  },
  {
   "cell_type": "code",
   "execution_count": 12,
   "metadata": {
    "dotnet_interactive": {
     "language": "csharp"
    },
    "polyglot_notebook": {
     "kernelName": "csharp"
    },
    "vscode": {
     "languageId": "polyglot-notebook"
    }
   },
   "outputs": [
    {
     "name": "stdout",
     "output_type": "stream",
     "text": [
      "\n",
      "> \n",
      "User: Elephants are the largest land mamma4ls on earth and have distinctly massive bodies, large ears, and long trunks. They use their trunks to pick up objects, trumpet warnings, greet other elephants, or suck up water for drinking or bathing, among other uses. Both male and female African elephants grow tusks and each individual can either be left- or right-tusked, an5d the one they use more is usually smaller because of wear and tear. Elephant tusks serve many purposes. These extended teeth can be used to protect the elephant's ztrunk, lift and move objects, gather food, and strip bark from trees. They can also be used for defense. During times of droughdd, elephants even use their tusks to dig holes to find water underground.\n",
      "\n",
      "REVIEWER:\n",
      "Here are some suggestions to improve the content:\n",
      "\n",
      "1. Correct the typographical errors in words like \"mamma4ls\", \"an5d\", \"ztrunk\", and \"droughdd\".\n",
      "2. Split the long sentence for better readability: \"Both male and female African elephants grow tusks and each individual can either be left- or right-tusked, an5d the one they use more is usually smaller because of wear and tear.\"\n",
      "3. Ensure the description flows logically, connecting ideas smoothly.\n",
      "\n",
      "Please address these suggestions and resubmit the content.\n",
      "\n",
      "WRITER:\n",
      "Elephants are the largest land mammals on earth and have distinctly massive bodies, large ears, and long trunks. They use their trunks to pick up objects, trumpet warnings, greet other elephants, or suck up water for drinking or bathing, among other uses. Both male and female African elephants grow tusks. Each individual can either be left- or right-tusked, and the one they use more is usually smaller due to wear and tear. Elephant tusks serve many purposes. These extended teeth can be used to protect the elephant's trunk, lift and move objects, gather food, and strip bark from trees. They can also be used for defense. During times of drought, elephants even use their tusks to dig holes to find water underground.\n",
      "\n",
      "REVIEWER:\n",
      "Your content has been successfully updated according to the suggestions. I will now copy the satisfactory content to the console output.\n",
      "\n",
      "```plaintext\n",
      "Elephants are the largest land mammals on earth and have distinctly massive bodies, large ears, and long trunks. They use their trunks to pick up objects, trumpet warnings, greet other elephants, or suck up water for drinking or bathing, among other uses. Both male and female African elephants grow tusks. Each individual can either be left- or right-tusked, and the one they use more is usually smaller due to wear and tear. Elephant tusks serve many purposes. These extended teeth can be used to protect the elephant's trunk, lift and move objects, gather food, and strip bark from trees. They can also be used for defense. During times of drought, elephants even use their tusks to dig holes to find water underground.\n",
      "```\n",
      "\n",
      "\n",
      "> "
     ]
    },
    {
     "ename": "Error",
     "evalue": "Input request cancelled",
     "output_type": "error",
     "traceback": [
      "Input request cancelled"
     ]
    },
    {
     "ename": "Error",
     "evalue": "System.Exception: Input request cancelled\r\n   at Microsoft.DotNet.Interactive.Kernel.GetInputAsync(String prompt, Boolean isPassword, String typeHint) in D:\\a\\_work\\1\\s\\src\\Microsoft.DotNet.Interactive\\Kernel.Static.cs:line 92\r\n   at Microsoft.DotNet.Interactive.Kernel.GetInputAsync(String prompt, String typeHint) in D:\\a\\_work\\1\\s\\src\\Microsoft.DotNet.Interactive\\Kernel.Static.cs:line 45\r\n   at Submission#12.<<Initialize>>d__0.MoveNext()\r\n--- End of stack trace from previous location ---\r\n   at Microsoft.CodeAnalysis.Scripting.ScriptExecutionState.RunSubmissionsAsync[TResult](ImmutableArray`1 precedingExecutors, Func`2 currentExecutor, StrongBox`1 exceptionHolderOpt, Func`2 catchExceptionOpt, CancellationToken cancellationToken)",
     "output_type": "error",
     "traceback": [
      "System.Exception: Input request cancelled\r\n",
      "   at Microsoft.DotNet.Interactive.Kernel.GetInputAsync(String prompt, Boolean isPassword, String typeHint) in D:\\a\\_work\\1\\s\\src\\Microsoft.DotNet.Interactive\\Kernel.Static.cs:line 92\r\n",
      "   at Microsoft.DotNet.Interactive.Kernel.GetInputAsync(String prompt, String typeHint) in D:\\a\\_work\\1\\s\\src\\Microsoft.DotNet.Interactive\\Kernel.Static.cs:line 45\r\n",
      "   at Submission#12.<<Initialize>>d__0.MoveNext()\r\n",
      "--- End of stack trace from previous location ---\r\n",
      "   at Microsoft.CodeAnalysis.Scripting.ScriptExecutionState.RunSubmissionsAsync[TResult](ImmutableArray`1 precedingExecutors, Func`2 currentExecutor, StrongBox`1 exceptionHolderOpt, Func`2 catchExceptionOpt, CancellationToken cancellationToken)"
     ]
    }
   ],
   "source": [
    "// The Agent Framework is experimental and requires warning suppression\n",
    "#pragma warning disable CA2007, IDE1006, SKEXP0001, SKEXP0110, OPENAI001\n",
    "\n",
    "bool isComplete = false;\n",
    "do\n",
    "{\n",
    "    Console.WriteLine();\n",
    "    Console.Write(\"> \");\n",
    "    var input = await Microsoft.DotNet.Interactive.Kernel.GetInputAsync(\"Chat:\");\n",
    "    if (string.IsNullOrWhiteSpace(input))\n",
    "    {\n",
    "        continue;\n",
    "    }\n",
    "    input = input.Trim();\n",
    "    if (input.Equals(\"EXIT\", StringComparison.OrdinalIgnoreCase))\n",
    "    {\n",
    "        isComplete = true;\n",
    "        break;\n",
    "    }\n",
    "\n",
    "    if (input.Equals(\"RESET\", StringComparison.OrdinalIgnoreCase))\n",
    "    {\n",
    "        await chat.ResetAsync();\n",
    "        Console.WriteLine(\"[Converation has been reset]\");\n",
    "        continue;\n",
    "    }\n",
    "\n",
    "    if (input.StartsWith(\"@\", StringComparison.Ordinal) && input.Length > 1)\n",
    "    {\n",
    "        string filePath = input.Substring(1);\n",
    "        try\n",
    "        {\n",
    "            if (!File.Exists(filePath))\n",
    "            {\n",
    "                Console.WriteLine($\"Unable to access file: {filePath}\");\n",
    "                continue;\n",
    "            }\n",
    "            input = File.ReadAllText(filePath);\n",
    "        }\n",
    "        catch (Exception)\n",
    "        {\n",
    "            Console.WriteLine($\"Unable to access file: {filePath}\");\n",
    "            continue;\n",
    "        }\n",
    "    }\n",
    "\n",
    "    Console.WriteLine();\n",
    "    Console.WriteLine($\"User: {input}\");\n",
    "    chat.AddChatMessage(new ChatMessageContent(AuthorRole.User, input));\n",
    "\n",
    "    chat.IsComplete = false;\n",
    "\n",
    "    try\n",
    "    {\n",
    "        await foreach (ChatMessageContent response in chat.InvokeAsync())\n",
    "        {\n",
    "            Console.WriteLine();\n",
    "            Console.WriteLine($\"{response.AuthorName.ToUpperInvariant()}:{Environment.NewLine}{response.Content}\");\n",
    "        }\n",
    "    }\n",
    "    catch (HttpOperationException exception)\n",
    "    {\n",
    "        Console.WriteLine(exception.Message);\n",
    "        if (exception.InnerException != null)\n",
    "        {\n",
    "            Console.WriteLine(exception.InnerException.Message);\n",
    "            if (exception.InnerException.Data.Count > 0)\n",
    "            {\n",
    "                Console.WriteLine(JsonSerializer.Serialize(exception.InnerException.Data, new JsonSerializerOptions() { WriteIndented = true }));\n",
    "            }\n",
    "        }\n",
    "    }\n",
    "} while (!isComplete);"
   ]
  }
 ],
 "metadata": {
  "kernelspec": {
   "display_name": ".NET (C#)",
   "language": "C#",
   "name": ".net-csharp"
  },
  "language_info": {
   "name": "python"
  },
  "polyglot_notebook": {
   "kernelInfo": {
    "defaultKernelName": "csharp",
    "items": [
     {
      "aliases": [],
      "name": "csharp"
     }
    ]
   }
  }
 },
 "nbformat": 4,
 "nbformat_minor": 2
}
